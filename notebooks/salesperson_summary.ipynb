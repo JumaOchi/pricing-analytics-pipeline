{
 "cells": [
  {
   "cell_type": "code",
   "execution_count": 4,
   "id": "69119205",
   "metadata": {},
   "outputs": [],
   "source": [
    "import pandas as pd\n",
    "from sqlalchemy import create_engine\n",
    "import os \n",
    "from dotenv import load_dotenv"
   ]
  },
  {
   "cell_type": "code",
   "execution_count": 5,
   "id": "0503e538",
   "metadata": {},
   "outputs": [],
   "source": [
    "# Load environment variables\n",
    "dotenv_path = os.path.join(os.path.dirname(os.getcwd()), 'config', '.env')\n",
    "load_dotenv(dotenv_path=dotenv_path)\n",
    "\n",
    "engine = create_engine(f\"postgresql://{os.getenv('DB_USER')}:{os.getenv('DB_PASSWORD')}@{os.getenv('DB_HOST')}:{os.getenv('DB_PORT')}/{os.getenv('DB_NAME')}\")\n"
   ]
  },
  {
   "cell_type": "code",
   "execution_count": 6,
   "id": "99f252e9",
   "metadata": {},
   "outputs": [
    {
     "data": {
      "text/html": [
       "<div>\n",
       "<style scoped>\n",
       "    .dataframe tbody tr th:only-of-type {\n",
       "        vertical-align: middle;\n",
       "    }\n",
       "\n",
       "    .dataframe tbody tr th {\n",
       "        vertical-align: top;\n",
       "    }\n",
       "\n",
       "    .dataframe thead th {\n",
       "        text-align: right;\n",
       "    }\n",
       "</style>\n",
       "<table border=\"1\" class=\"dataframe\">\n",
       "  <thead>\n",
       "    <tr style=\"text-align: right;\">\n",
       "      <th></th>\n",
       "      <th>year</th>\n",
       "      <th>salesperson</th>\n",
       "      <th>num_completed_orders</th>\n",
       "      <th>total_sales</th>\n",
       "      <th>total_profit</th>\n",
       "      <th>avg_order_value</th>\n",
       "      <th>avg_profit_per_order</th>\n",
       "      <th>total_discounted_revenue</th>\n",
       "      <th>total_discount_given</th>\n",
       "      <th>total_revenue_lost</th>\n",
       "      <th>units_lost</th>\n",
       "      <th>customers_lost</th>\n",
       "    </tr>\n",
       "  </thead>\n",
       "  <tbody>\n",
       "    <tr>\n",
       "      <th>0</th>\n",
       "      <td>2019.0</td>\n",
       "      <td>Adam Smith</td>\n",
       "      <td>6</td>\n",
       "      <td>7700.412061</td>\n",
       "      <td>6476.046902</td>\n",
       "      <td>1283.402010</td>\n",
       "      <td>1079.341150</td>\n",
       "      <td>7700.412061</td>\n",
       "      <td>1301.277939</td>\n",
       "      <td>0.0</td>\n",
       "      <td>0.0</td>\n",
       "      <td>0</td>\n",
       "    </tr>\n",
       "    <tr>\n",
       "      <th>1</th>\n",
       "      <td>2019.0</td>\n",
       "      <td>Bradley Howe</td>\n",
       "      <td>10</td>\n",
       "      <td>13102.462313</td>\n",
       "      <td>10997.349108</td>\n",
       "      <td>1310.246231</td>\n",
       "      <td>1099.734911</td>\n",
       "      <td>13102.462313</td>\n",
       "      <td>1532.077687</td>\n",
       "      <td>0.0</td>\n",
       "      <td>0.0</td>\n",
       "      <td>0</td>\n",
       "    </tr>\n",
       "    <tr>\n",
       "      <th>2</th>\n",
       "      <td>2019.0</td>\n",
       "      <td>Caitlyn Boyd</td>\n",
       "      <td>9</td>\n",
       "      <td>11747.390995</td>\n",
       "      <td>9900.168229</td>\n",
       "      <td>1305.265666</td>\n",
       "      <td>1100.018692</td>\n",
       "      <td>11747.390995</td>\n",
       "      <td>1718.809005</td>\n",
       "      <td>0.0</td>\n",
       "      <td>0.0</td>\n",
       "      <td>0</td>\n",
       "    </tr>\n",
       "    <tr>\n",
       "      <th>3</th>\n",
       "      <td>2019.0</td>\n",
       "      <td>Caleb Camacho</td>\n",
       "      <td>15</td>\n",
       "      <td>18142.850260</td>\n",
       "      <td>15022.664692</td>\n",
       "      <td>1209.523351</td>\n",
       "      <td>1001.510979</td>\n",
       "      <td>18142.850260</td>\n",
       "      <td>4422.059740</td>\n",
       "      <td>0.0</td>\n",
       "      <td>0.0</td>\n",
       "      <td>0</td>\n",
       "    </tr>\n",
       "    <tr>\n",
       "      <th>4</th>\n",
       "      <td>2019.0</td>\n",
       "      <td>Charles Smith</td>\n",
       "      <td>14</td>\n",
       "      <td>20252.237109</td>\n",
       "      <td>17156.825827</td>\n",
       "      <td>1446.588365</td>\n",
       "      <td>1225.487559</td>\n",
       "      <td>20252.237109</td>\n",
       "      <td>2787.262891</td>\n",
       "      <td>0.0</td>\n",
       "      <td>0.0</td>\n",
       "      <td>0</td>\n",
       "    </tr>\n",
       "  </tbody>\n",
       "</table>\n",
       "</div>"
      ],
      "text/plain": [
       "     year    salesperson  num_completed_orders   total_sales  total_profit  \\\n",
       "0  2019.0     Adam Smith                     6   7700.412061   6476.046902   \n",
       "1  2019.0   Bradley Howe                    10  13102.462313  10997.349108   \n",
       "2  2019.0   Caitlyn Boyd                     9  11747.390995   9900.168229   \n",
       "3  2019.0  Caleb Camacho                    15  18142.850260  15022.664692   \n",
       "4  2019.0  Charles Smith                    14  20252.237109  17156.825827   \n",
       "\n",
       "   avg_order_value  avg_profit_per_order  total_discounted_revenue  \\\n",
       "0      1283.402010           1079.341150               7700.412061   \n",
       "1      1310.246231           1099.734911              13102.462313   \n",
       "2      1305.265666           1100.018692              11747.390995   \n",
       "3      1209.523351           1001.510979              18142.850260   \n",
       "4      1446.588365           1225.487559              20252.237109   \n",
       "\n",
       "   total_discount_given  total_revenue_lost  units_lost  customers_lost  \n",
       "0           1301.277939                 0.0         0.0               0  \n",
       "1           1532.077687                 0.0         0.0               0  \n",
       "2           1718.809005                 0.0         0.0               0  \n",
       "3           4422.059740                 0.0         0.0               0  \n",
       "4           2787.262891                 0.0         0.0               0  "
      ]
     },
     "execution_count": 6,
     "metadata": {},
     "output_type": "execute_result"
    }
   ],
   "source": [
    "data = pd.read_sql(\"SELECT * FROM salesperson_summary\", engine)\n",
    "\n",
    "data.head()"
   ]
  },
  {
   "cell_type": "code",
   "execution_count": 9,
   "id": "51d1b971",
   "metadata": {},
   "outputs": [
    {
     "data": {
      "text/plain": [
       "total_revenue_lost    0\n",
       "units_lost            0\n",
       "customers_lost        0\n",
       "dtype: int64"
      ]
     },
     "execution_count": 9,
     "metadata": {},
     "output_type": "execute_result"
    }
   ],
   "source": [
    "data[[\"total_revenue_lost\", \"units_lost\", \"customers_lost\"]].describe()\n",
    "data[[\"total_revenue_lost\", \"units_lost\", \"customers_lost\"]].isnull().sum()\n"
   ]
  }
 ],
 "metadata": {
  "kernelspec": {
   "display_name": "penv",
   "language": "python",
   "name": "python3"
  },
  "language_info": {
   "codemirror_mode": {
    "name": "ipython",
    "version": 3
   },
   "file_extension": ".py",
   "mimetype": "text/x-python",
   "name": "python",
   "nbconvert_exporter": "python",
   "pygments_lexer": "ipython3",
   "version": "3.12.3"
  }
 },
 "nbformat": 4,
 "nbformat_minor": 5
}
